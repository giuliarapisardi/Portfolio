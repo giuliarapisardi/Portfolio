{
 "cells": [
  {
   "cell_type": "markdown",
   "metadata": {},
   "source": [
    "# Giulia Rapisardi\n",
    "## CSC 310 Individual Project: Data Analysis and Modeling\n",
    "\n",
    "## Introduction\n",
    "\n",
    "The following analysis will be conducted from a data set that provides information from a spotify top 50 songs of 2019 list. \n",
    "\n",
    "The data set includes information on the artist of the song, BPM (beats per minute), the genre, and how popular the song is. \n",
    "\n",
    "I will be conducting analysis in order to find out what variable that is included in the data set makes a song well liked and influences the popularity and rating. I will also look at how accurate it is to judge a songs success and estimate other characteristics of the song by just looking at the BPM. \n",
    "\n",
    "Considering that the higher the BPM usually correlates to fast paced energetic music I hypothesize that there will be a positive, linear, realtionshp between BPM and Rating and BPM and popularity. As energetic and upbeat songs usually capture an audiences attention. \n",
    "\n",
    "Furthermore, I will use various functions to compute statistics, regression models, and emphasize patterns in the data set to allow a clear understanding of what makes a song's rating and popularity increase. "
   ]
  },
  {
   "cell_type": "markdown",
   "metadata": {},
   "source": [
    "## Body\n",
    "\n",
    "### *Data*\n",
    "\n",
    "The data set consists of 50 rows, 12 columns, and 12 variables:\n",
    "\n",
    "    • Rating - numerical value ranging from 1 - 50\n",
    "    • Genre - categorical value demonstrating the genre of the track\n",
    "    • BPM - numerical value demomstrating the beat of the song\n",
    "    • Energy - numerical value demonstrating the amoung of energy a song has, higher the number the more energy there is. \n",
    "    • Danceability - numerical value demonstrating the likeliness you can dance to the song, higher the value the more likely you are able to dance to it. \n",
    "    • Loudness - numerical value demonstrating the level of loudness the song has, higher the value the louder the song is. \n",
    "    • Liveness - numercial value demonstrating the likelihood that the song is a live recording, higher the value the more likely the song was recorded live. \n",
    "    • Valence - numerical value demonstrating the amount of which the song is classified as having a positive mood, higher the value to more positive of a mood the song has. \n",
    "    • Length - numerical value demonstrating the length of a song. \n",
    "    • Acousticness - numerical value demonstrating the level at which the song hold an acoustic sound, the higher the value to more acoustic sounding the song is. \n",
    "    • Speechiness - numerical value determining how many words in the song are spoken and not sung, higher the value the more words are spoken throughout the song. \n",
    "    • Popularity - numerical value displaying the popularity of the song, higher to value the more popular the song is. \n",
    "\n",
    "Majority of variables from this data set are numerical aside form the **Genre** varaible which is categorical.\n",
    "\n",
    "The ensure that I would be able to efficiently run the analysis I converted **Genre** to a numerical value below to gain the most accurate results."
   ]
  },
  {
   "cell_type": "code",
   "execution_count": 1,
   "metadata": {},
   "outputs": [],
   "source": [
    "import pandas as pd\n",
    "import matplotlib.pyplot as plt \n",
    "import numpy as np \n",
    "np.set_printoptions(formatter={'float_kind':\"{:3.2f}\".format})\n",
    "import seaborn as sns \n",
    "from sklearn.metrics import accuracy_score\n",
    "from sklearn.model_selection import GridSearchCV\n",
    "from sklearn.model_selection import cross_val_score\n",
    "%matplotlib inline\n",
    "import matplotlib.pyplot as plt\n",
    "from sklearn.tree import DecisionTreeRegressor\n",
    "from sklearn.neural_network import MLPRegressor\n",
    "from sklearn.neighbors import KNeighborsRegressor\n",
    "from confint import regression_confint"
   ]
  },
  {
   "cell_type": "code",
   "execution_count": 2,
   "metadata": {},
   "outputs": [
    {
     "data": {
      "text/html": [
       "<div>\n",
       "<style scoped>\n",
       "    .dataframe tbody tr th:only-of-type {\n",
       "        vertical-align: middle;\n",
       "    }\n",
       "\n",
       "    .dataframe tbody tr th {\n",
       "        vertical-align: top;\n",
       "    }\n",
       "\n",
       "    .dataframe thead th {\n",
       "        text-align: right;\n",
       "    }\n",
       "</style>\n",
       "<table border=\"1\" class=\"dataframe\">\n",
       "  <thead>\n",
       "    <tr style=\"text-align: right;\">\n",
       "      <th></th>\n",
       "      <th>Rating</th>\n",
       "      <th>Genre</th>\n",
       "      <th>BPM</th>\n",
       "      <th>Energy</th>\n",
       "      <th>Danceability</th>\n",
       "      <th>Loudness</th>\n",
       "      <th>Liveness</th>\n",
       "      <th>Valence</th>\n",
       "      <th>Length</th>\n",
       "      <th>Acousticness</th>\n",
       "      <th>Speechiness</th>\n",
       "      <th>Popularity</th>\n",
       "    </tr>\n",
       "  </thead>\n",
       "  <tbody>\n",
       "    <tr>\n",
       "      <th>0</th>\n",
       "      <td>34</td>\n",
       "      <td>atl hip hop</td>\n",
       "      <td>98</td>\n",
       "      <td>59</td>\n",
       "      <td>80</td>\n",
       "      <td>-7</td>\n",
       "      <td>13</td>\n",
       "      <td>18</td>\n",
       "      <td>200</td>\n",
       "      <td>2</td>\n",
       "      <td>15</td>\n",
       "      <td>89</td>\n",
       "    </tr>\n",
       "    <tr>\n",
       "      <th>1</th>\n",
       "      <td>27</td>\n",
       "      <td>australian pop</td>\n",
       "      <td>98</td>\n",
       "      <td>59</td>\n",
       "      <td>82</td>\n",
       "      <td>-6</td>\n",
       "      <td>18</td>\n",
       "      <td>54</td>\n",
       "      <td>210</td>\n",
       "      <td>69</td>\n",
       "      <td>10</td>\n",
       "      <td>83</td>\n",
       "    </tr>\n",
       "    <tr>\n",
       "      <th>2</th>\n",
       "      <td>36</td>\n",
       "      <td>big room</td>\n",
       "      <td>114</td>\n",
       "      <td>72</td>\n",
       "      <td>66</td>\n",
       "      <td>-7</td>\n",
       "      <td>14</td>\n",
       "      <td>32</td>\n",
       "      <td>164</td>\n",
       "      <td>18</td>\n",
       "      <td>6</td>\n",
       "      <td>89</td>\n",
       "    </tr>\n",
       "    <tr>\n",
       "      <th>3</th>\n",
       "      <td>39</td>\n",
       "      <td>boy band</td>\n",
       "      <td>138</td>\n",
       "      <td>73</td>\n",
       "      <td>84</td>\n",
       "      <td>-5</td>\n",
       "      <td>11</td>\n",
       "      <td>95</td>\n",
       "      <td>181</td>\n",
       "      <td>4</td>\n",
       "      <td>6</td>\n",
       "      <td>80</td>\n",
       "    </tr>\n",
       "    <tr>\n",
       "      <th>4</th>\n",
       "      <td>46</td>\n",
       "      <td>brostep</td>\n",
       "      <td>88</td>\n",
       "      <td>62</td>\n",
       "      <td>66</td>\n",
       "      <td>-2</td>\n",
       "      <td>58</td>\n",
       "      <td>44</td>\n",
       "      <td>182</td>\n",
       "      <td>7</td>\n",
       "      <td>5</td>\n",
       "      <td>88</td>\n",
       "    </tr>\n",
       "  </tbody>\n",
       "</table>\n",
       "</div>"
      ],
      "text/plain": [
       "   Rating           Genre  BPM  Energy  Danceability  Loudness  Liveness  \\\n",
       "0      34     atl hip hop   98      59            80        -7        13   \n",
       "1      27  australian pop   98      59            82        -6        18   \n",
       "2      36        big room  114      72            66        -7        14   \n",
       "3      39        boy band  138      73            84        -5        11   \n",
       "4      46         brostep   88      62            66        -2        58   \n",
       "\n",
       "   Valence  Length  Acousticness  Speechiness  Popularity  \n",
       "0       18     200             2           15          89  \n",
       "1       54     210            69           10          83  \n",
       "2       32     164            18            6          89  \n",
       "3       95     181             4            6          80  \n",
       "4       44     182             7            5          88  "
      ]
     },
     "execution_count": 2,
     "metadata": {},
     "output_type": "execute_result"
    }
   ],
   "source": [
    "df = pd.read_csv('Spotify.csv')\n",
    "df.head()"
   ]
  },
  {
   "cell_type": "code",
   "execution_count": 3,
   "metadata": {},
   "outputs": [
    {
     "data": {
      "text/html": [
       "<div>\n",
       "<style scoped>\n",
       "    .dataframe tbody tr th:only-of-type {\n",
       "        vertical-align: middle;\n",
       "    }\n",
       "\n",
       "    .dataframe tbody tr th {\n",
       "        vertical-align: top;\n",
       "    }\n",
       "\n",
       "    .dataframe thead th {\n",
       "        text-align: right;\n",
       "    }\n",
       "</style>\n",
       "<table border=\"1\" class=\"dataframe\">\n",
       "  <thead>\n",
       "    <tr style=\"text-align: right;\">\n",
       "      <th></th>\n",
       "      <th>Rating</th>\n",
       "      <th>BPM</th>\n",
       "      <th>Energy</th>\n",
       "      <th>Danceability</th>\n",
       "      <th>Loudness</th>\n",
       "      <th>Liveness</th>\n",
       "      <th>Valence</th>\n",
       "      <th>Length</th>\n",
       "      <th>Acousticness</th>\n",
       "      <th>Speechiness</th>\n",
       "      <th>Popularity</th>\n",
       "    </tr>\n",
       "  </thead>\n",
       "  <tbody>\n",
       "    <tr>\n",
       "      <th>count</th>\n",
       "      <td>50.00000</td>\n",
       "      <td>50.000000</td>\n",
       "      <td>50.000000</td>\n",
       "      <td>50.00000</td>\n",
       "      <td>50.000000</td>\n",
       "      <td>50.000000</td>\n",
       "      <td>50.000000</td>\n",
       "      <td>50.000000</td>\n",
       "      <td>50.000000</td>\n",
       "      <td>50.000000</td>\n",
       "      <td>50.000000</td>\n",
       "    </tr>\n",
       "    <tr>\n",
       "      <th>mean</th>\n",
       "      <td>25.50000</td>\n",
       "      <td>120.060000</td>\n",
       "      <td>64.060000</td>\n",
       "      <td>71.38000</td>\n",
       "      <td>-5.660000</td>\n",
       "      <td>14.660000</td>\n",
       "      <td>54.600000</td>\n",
       "      <td>200.960000</td>\n",
       "      <td>22.160000</td>\n",
       "      <td>12.480000</td>\n",
       "      <td>87.500000</td>\n",
       "    </tr>\n",
       "    <tr>\n",
       "      <th>std</th>\n",
       "      <td>14.57738</td>\n",
       "      <td>30.898392</td>\n",
       "      <td>14.231913</td>\n",
       "      <td>11.92988</td>\n",
       "      <td>2.056448</td>\n",
       "      <td>11.118306</td>\n",
       "      <td>22.336024</td>\n",
       "      <td>39.143879</td>\n",
       "      <td>18.995553</td>\n",
       "      <td>11.161596</td>\n",
       "      <td>4.491489</td>\n",
       "    </tr>\n",
       "    <tr>\n",
       "      <th>min</th>\n",
       "      <td>1.00000</td>\n",
       "      <td>85.000000</td>\n",
       "      <td>32.000000</td>\n",
       "      <td>29.00000</td>\n",
       "      <td>-11.000000</td>\n",
       "      <td>5.000000</td>\n",
       "      <td>10.000000</td>\n",
       "      <td>115.000000</td>\n",
       "      <td>1.000000</td>\n",
       "      <td>3.000000</td>\n",
       "      <td>70.000000</td>\n",
       "    </tr>\n",
       "    <tr>\n",
       "      <th>25%</th>\n",
       "      <td>13.25000</td>\n",
       "      <td>96.000000</td>\n",
       "      <td>55.250000</td>\n",
       "      <td>67.00000</td>\n",
       "      <td>-6.750000</td>\n",
       "      <td>8.000000</td>\n",
       "      <td>38.250000</td>\n",
       "      <td>176.750000</td>\n",
       "      <td>8.250000</td>\n",
       "      <td>5.000000</td>\n",
       "      <td>86.000000</td>\n",
       "    </tr>\n",
       "    <tr>\n",
       "      <th>50%</th>\n",
       "      <td>25.50000</td>\n",
       "      <td>104.500000</td>\n",
       "      <td>66.500000</td>\n",
       "      <td>73.50000</td>\n",
       "      <td>-6.000000</td>\n",
       "      <td>11.000000</td>\n",
       "      <td>55.500000</td>\n",
       "      <td>198.000000</td>\n",
       "      <td>15.000000</td>\n",
       "      <td>7.000000</td>\n",
       "      <td>88.000000</td>\n",
       "    </tr>\n",
       "    <tr>\n",
       "      <th>75%</th>\n",
       "      <td>37.75000</td>\n",
       "      <td>137.500000</td>\n",
       "      <td>74.750000</td>\n",
       "      <td>79.75000</td>\n",
       "      <td>-4.000000</td>\n",
       "      <td>15.750000</td>\n",
       "      <td>69.500000</td>\n",
       "      <td>217.500000</td>\n",
       "      <td>33.750000</td>\n",
       "      <td>15.000000</td>\n",
       "      <td>90.750000</td>\n",
       "    </tr>\n",
       "    <tr>\n",
       "      <th>max</th>\n",
       "      <td>50.00000</td>\n",
       "      <td>190.000000</td>\n",
       "      <td>88.000000</td>\n",
       "      <td>90.00000</td>\n",
       "      <td>-2.000000</td>\n",
       "      <td>58.000000</td>\n",
       "      <td>95.000000</td>\n",
       "      <td>309.000000</td>\n",
       "      <td>75.000000</td>\n",
       "      <td>46.000000</td>\n",
       "      <td>95.000000</td>\n",
       "    </tr>\n",
       "  </tbody>\n",
       "</table>\n",
       "</div>"
      ],
      "text/plain": [
       "         Rating         BPM     Energy  Danceability   Loudness   Liveness  \\\n",
       "count  50.00000   50.000000  50.000000      50.00000  50.000000  50.000000   \n",
       "mean   25.50000  120.060000  64.060000      71.38000  -5.660000  14.660000   \n",
       "std    14.57738   30.898392  14.231913      11.92988   2.056448  11.118306   \n",
       "min     1.00000   85.000000  32.000000      29.00000 -11.000000   5.000000   \n",
       "25%    13.25000   96.000000  55.250000      67.00000  -6.750000   8.000000   \n",
       "50%    25.50000  104.500000  66.500000      73.50000  -6.000000  11.000000   \n",
       "75%    37.75000  137.500000  74.750000      79.75000  -4.000000  15.750000   \n",
       "max    50.00000  190.000000  88.000000      90.00000  -2.000000  58.000000   \n",
       "\n",
       "         Valence      Length  Acousticness  Speechiness  Popularity  \n",
       "count  50.000000   50.000000     50.000000    50.000000   50.000000  \n",
       "mean   54.600000  200.960000     22.160000    12.480000   87.500000  \n",
       "std    22.336024   39.143879     18.995553    11.161596    4.491489  \n",
       "min    10.000000  115.000000      1.000000     3.000000   70.000000  \n",
       "25%    38.250000  176.750000      8.250000     5.000000   86.000000  \n",
       "50%    55.500000  198.000000     15.000000     7.000000   88.000000  \n",
       "75%    69.500000  217.500000     33.750000    15.000000   90.750000  \n",
       "max    95.000000  309.000000     75.000000    46.000000   95.000000  "
      ]
     },
     "execution_count": 3,
     "metadata": {},
     "output_type": "execute_result"
    }
   ],
   "source": [
    "df.describe()"
   ]
  },
  {
   "cell_type": "code",
   "execution_count": 4,
   "metadata": {},
   "outputs": [
    {
     "data": {
      "text/html": [
       "<div>\n",
       "<style scoped>\n",
       "    .dataframe tbody tr th:only-of-type {\n",
       "        vertical-align: middle;\n",
       "    }\n",
       "\n",
       "    .dataframe tbody tr th {\n",
       "        vertical-align: top;\n",
       "    }\n",
       "\n",
       "    .dataframe thead th {\n",
       "        text-align: right;\n",
       "    }\n",
       "</style>\n",
       "<table border=\"1\" class=\"dataframe\">\n",
       "  <thead>\n",
       "    <tr style=\"text-align: right;\">\n",
       "      <th></th>\n",
       "      <th>Rating</th>\n",
       "      <th>BPM</th>\n",
       "      <th>Energy</th>\n",
       "      <th>Danceability</th>\n",
       "      <th>Loudness</th>\n",
       "      <th>Liveness</th>\n",
       "      <th>Valence</th>\n",
       "      <th>Length</th>\n",
       "      <th>Acousticness</th>\n",
       "      <th>Speechiness</th>\n",
       "      <th>...</th>\n",
       "      <th>Genre_electropop</th>\n",
       "      <th>Genre_escape room</th>\n",
       "      <th>Genre_latin</th>\n",
       "      <th>Genre_panamanian pop</th>\n",
       "      <th>Genre_pop</th>\n",
       "      <th>Genre_pop house</th>\n",
       "      <th>Genre_r&amp;b en espanol</th>\n",
       "      <th>Genre_reggaeton</th>\n",
       "      <th>Genre_reggaeton flow</th>\n",
       "      <th>Genre_trap music</th>\n",
       "    </tr>\n",
       "  </thead>\n",
       "  <tbody>\n",
       "    <tr>\n",
       "      <th>0</th>\n",
       "      <td>34</td>\n",
       "      <td>98</td>\n",
       "      <td>59</td>\n",
       "      <td>80</td>\n",
       "      <td>-7</td>\n",
       "      <td>13</td>\n",
       "      <td>18</td>\n",
       "      <td>200</td>\n",
       "      <td>2</td>\n",
       "      <td>15</td>\n",
       "      <td>...</td>\n",
       "      <td>0</td>\n",
       "      <td>0</td>\n",
       "      <td>0</td>\n",
       "      <td>0</td>\n",
       "      <td>0</td>\n",
       "      <td>0</td>\n",
       "      <td>0</td>\n",
       "      <td>0</td>\n",
       "      <td>0</td>\n",
       "      <td>0</td>\n",
       "    </tr>\n",
       "    <tr>\n",
       "      <th>1</th>\n",
       "      <td>27</td>\n",
       "      <td>98</td>\n",
       "      <td>59</td>\n",
       "      <td>82</td>\n",
       "      <td>-6</td>\n",
       "      <td>18</td>\n",
       "      <td>54</td>\n",
       "      <td>210</td>\n",
       "      <td>69</td>\n",
       "      <td>10</td>\n",
       "      <td>...</td>\n",
       "      <td>0</td>\n",
       "      <td>0</td>\n",
       "      <td>0</td>\n",
       "      <td>0</td>\n",
       "      <td>0</td>\n",
       "      <td>0</td>\n",
       "      <td>0</td>\n",
       "      <td>0</td>\n",
       "      <td>0</td>\n",
       "      <td>0</td>\n",
       "    </tr>\n",
       "    <tr>\n",
       "      <th>2</th>\n",
       "      <td>36</td>\n",
       "      <td>114</td>\n",
       "      <td>72</td>\n",
       "      <td>66</td>\n",
       "      <td>-7</td>\n",
       "      <td>14</td>\n",
       "      <td>32</td>\n",
       "      <td>164</td>\n",
       "      <td>18</td>\n",
       "      <td>6</td>\n",
       "      <td>...</td>\n",
       "      <td>0</td>\n",
       "      <td>0</td>\n",
       "      <td>0</td>\n",
       "      <td>0</td>\n",
       "      <td>0</td>\n",
       "      <td>0</td>\n",
       "      <td>0</td>\n",
       "      <td>0</td>\n",
       "      <td>0</td>\n",
       "      <td>0</td>\n",
       "    </tr>\n",
       "    <tr>\n",
       "      <th>3</th>\n",
       "      <td>39</td>\n",
       "      <td>138</td>\n",
       "      <td>73</td>\n",
       "      <td>84</td>\n",
       "      <td>-5</td>\n",
       "      <td>11</td>\n",
       "      <td>95</td>\n",
       "      <td>181</td>\n",
       "      <td>4</td>\n",
       "      <td>6</td>\n",
       "      <td>...</td>\n",
       "      <td>0</td>\n",
       "      <td>0</td>\n",
       "      <td>0</td>\n",
       "      <td>0</td>\n",
       "      <td>0</td>\n",
       "      <td>0</td>\n",
       "      <td>0</td>\n",
       "      <td>0</td>\n",
       "      <td>0</td>\n",
       "      <td>0</td>\n",
       "    </tr>\n",
       "    <tr>\n",
       "      <th>4</th>\n",
       "      <td>46</td>\n",
       "      <td>88</td>\n",
       "      <td>62</td>\n",
       "      <td>66</td>\n",
       "      <td>-2</td>\n",
       "      <td>58</td>\n",
       "      <td>44</td>\n",
       "      <td>182</td>\n",
       "      <td>7</td>\n",
       "      <td>5</td>\n",
       "      <td>...</td>\n",
       "      <td>0</td>\n",
       "      <td>0</td>\n",
       "      <td>0</td>\n",
       "      <td>0</td>\n",
       "      <td>0</td>\n",
       "      <td>0</td>\n",
       "      <td>0</td>\n",
       "      <td>0</td>\n",
       "      <td>0</td>\n",
       "      <td>0</td>\n",
       "    </tr>\n",
       "  </tbody>\n",
       "</table>\n",
       "<p>5 rows × 32 columns</p>\n",
       "</div>"
      ],
      "text/plain": [
       "   Rating  BPM  Energy  Danceability  Loudness  Liveness  Valence  Length  \\\n",
       "0      34   98      59            80        -7        13       18     200   \n",
       "1      27   98      59            82        -6        18       54     210   \n",
       "2      36  114      72            66        -7        14       32     164   \n",
       "3      39  138      73            84        -5        11       95     181   \n",
       "4      46   88      62            66        -2        58       44     182   \n",
       "\n",
       "   Acousticness  Speechiness        ...         Genre_electropop  \\\n",
       "0             2           15        ...                        0   \n",
       "1            69           10        ...                        0   \n",
       "2            18            6        ...                        0   \n",
       "3             4            6        ...                        0   \n",
       "4             7            5        ...                        0   \n",
       "\n",
       "   Genre_escape room  Genre_latin  Genre_panamanian pop  Genre_pop  \\\n",
       "0                  0            0                     0          0   \n",
       "1                  0            0                     0          0   \n",
       "2                  0            0                     0          0   \n",
       "3                  0            0                     0          0   \n",
       "4                  0            0                     0          0   \n",
       "\n",
       "   Genre_pop house  Genre_r&b en espanol  Genre_reggaeton  \\\n",
       "0                0                     0                0   \n",
       "1                0                     0                0   \n",
       "2                0                     0                0   \n",
       "3                0                     0                0   \n",
       "4                0                     0                0   \n",
       "\n",
       "   Genre_reggaeton flow  Genre_trap music  \n",
       "0                     0                 0  \n",
       "1                     0                 0  \n",
       "2                     0                 0  \n",
       "3                     0                 0  \n",
       "4                     0                 0  \n",
       "\n",
       "[5 rows x 32 columns]"
      ]
     },
     "execution_count": 4,
     "metadata": {},
     "output_type": "execute_result"
    }
   ],
   "source": [
    "# creating the new dataset \n",
    "df = pd.get_dummies(df)\n",
    "df.head()"
   ]
  },
  {
   "cell_type": "markdown",
   "metadata": {},
   "source": [
    "### *Methods & Analysis*\n",
    "\n",
    "To gain answers to my data-driven question I will use statistic functions such as minimum, maximum, and mean to gain a better understanding of the numbers in the data set. Followed by running a Regression Tree and KNN regression model to determine the R^2 value of the two variables in question, or in other words how linear their relationship is, along with their confidence interval. \n",
    "\n",
    "#### Analysis I\n",
    "\n",
    "The first question I want to answer is:\n",
    "\n",
    "    Does BPM (beats per minute) have an influence on the rating of a song?\n",
    "\n",
    "To determine this I first want to understand what is considered a low or high BPM in the data set along with visualizations to show any trends that may be prominent. "
   ]
  },
  {
   "cell_type": "code",
   "execution_count": 5,
   "metadata": {},
   "outputs": [
    {
     "data": {
      "text/plain": [
       "85"
      ]
     },
     "execution_count": 5,
     "metadata": {},
     "output_type": "execute_result"
    }
   ],
   "source": [
    "df['BPM'].min()"
   ]
  },
  {
   "cell_type": "code",
   "execution_count": 6,
   "metadata": {},
   "outputs": [
    {
     "data": {
      "text/plain": [
       "190"
      ]
     },
     "execution_count": 6,
     "metadata": {},
     "output_type": "execute_result"
    }
   ],
   "source": [
    "df['BPM'].max()"
   ]
  },
  {
   "cell_type": "code",
   "execution_count": 7,
   "metadata": {},
   "outputs": [
    {
     "data": {
      "text/plain": [
       "120.06"
      ]
     },
     "execution_count": 7,
     "metadata": {},
     "output_type": "execute_result"
    }
   ],
   "source": [
    "df['BPM'].mean()"
   ]
  },
  {
   "cell_type": "code",
   "execution_count": 8,
   "metadata": {},
   "outputs": [
    {
     "data": {
      "text/plain": [
       "<matplotlib.axes._subplots.AxesSubplot at 0x1a1d716518>"
      ]
     },
     "execution_count": 8,
     "metadata": {},
     "output_type": "execute_result"
    },
    {
     "data": {
      "image/png": "[encoded data removed]",
      "text/plain": [
       "<Figure size 432x288 with 1 Axes>"
      ]
     },
     "metadata": {
      "needs_background": "light"
     },
     "output_type": "display_data"
    }
   ],
   "source": [
    "df['BPM'].value_counts().plot(kind='bar')"
   ]
  },
  {
   "cell_type": "markdown",
   "metadata": {},
   "source": [
    "These statistics show that the highest BPM in the data set is 190, and the lowest is 85 with an average BPM of 120. \n",
    "\n",
    "The visualizations show that majority of attributes in the data set have a BPM of over 100. \n",
    "\n",
    "To gain more information on how the rating is influenced in the data set I will move forward and run a regression tree analysis and the best model of the KNN regression. \n",
    "\n",
    "##### *Regression Tree*"
   ]
  },
  {
   "cell_type": "code",
   "execution_count": 9,
   "metadata": {},
   "outputs": [
    {
     "data": {
      "text/plain": [
       "DecisionTreeRegressor(criterion='mse', max_depth=None, max_features=None,\n",
       "           max_leaf_nodes=None, min_impurity_decrease=0.0,\n",
       "           min_impurity_split=None, min_samples_leaf=1,\n",
       "           min_samples_split=2, min_weight_fraction_leaf=0.0,\n",
       "           presort=False, random_state=None, splitter='best')"
      ]
     },
     "execution_count": 9,
     "metadata": {},
     "output_type": "execute_result"
    }
   ],
   "source": [
    "# pick model\n",
    "model = DecisionTreeRegressor(max_depth=None)\n",
    "model.fit(df['BPM'].values.reshape(-1,1),df['Rating'])"
   ]
  },
  {
   "cell_type": "code",
   "execution_count": 10,
   "metadata": {},
   "outputs": [
    {
     "data": {
      "text/plain": [
       "[<matplotlib.lines.Line2D at 0x1a1db1ff28>]"
      ]
     },
     "execution_count": 10,
     "metadata": {},
     "output_type": "execute_result"
    },
    {
     "data": {
      "image/png": "[encoded data removed]",
      "text/plain": [
       "<Figure size 432x288 with 1 Axes>"
      ]
     },
     "metadata": {
      "needs_background": "light"
     },
     "output_type": "display_data"
    }
   ],
   "source": [
    "# plot the model ontop of the data\n",
    "plt.scatter(df['BPM'],df['Rating'])\n",
    "plt.xlabel('BPM')\n",
    "plt.ylabel('Rating')\n",
    "\n",
    "x_ticks = np.arange(0,200.0,0.1)\n",
    "y_ticks = model.predict(x_ticks.reshape(-1, 1))\n",
    "plt.plot(x_ticks,y_ticks,\"r-\")"
   ]
  },
  {
   "cell_type": "code",
   "execution_count": 11,
   "metadata": {},
   "outputs": [
    {
     "name": "stdout",
     "output_type": "stream",
     "text": [
      "R^2 Score: 0.71 (0.59, 0.84)\n"
     ]
    }
   ],
   "source": [
    "# R^2 score\n",
    "rs = model.score(df['BPM'].values.reshape(-1,1),df['Rating'])\n",
    "observations = df.shape[0]\n",
    "variables = 1\n",
    "lb,ub = regression_confint(rs, observations, variables)\n",
    "\n",
    "# print out R^2 score with its 95% confidence interval\n",
    "print(\"R^2 Score: {:3.2f} ({:3.2f}, {:3.2f})\".format(rs,lb,ub))"
   ]
  },
  {
   "cell_type": "markdown",
   "metadata": {},
   "source": [
    "##### *KNN Regression*"
   ]
  },
  {
   "cell_type": "code",
   "execution_count": 12,
   "metadata": {},
   "outputs": [],
   "source": [
    "# create dataset vectors\n",
    "X = df['BPM'].values.reshape(-1,1)\n",
    "y = df['Rating']"
   ]
  },
  {
   "cell_type": "code",
   "execution_count": 13,
   "metadata": {},
   "outputs": [],
   "source": [
    "# setting up grid search\n",
    "model2 = KNeighborsRegressor()\n",
    "param_grid = {'n_neighbors': list(range(1,11))}\n",
    "grid = GridSearchCV(model2, param_grid, cv=5)"
   ]
  },
  {
   "cell_type": "code",
   "execution_count": 14,
   "metadata": {},
   "outputs": [
    {
     "data": {
      "text/plain": [
       "GridSearchCV(cv=5, error_score='raise-deprecating',\n",
       "       estimator=KNeighborsRegressor(algorithm='auto', leaf_size=30, metric='minkowski',\n",
       "          metric_params=None, n_jobs=None, n_neighbors=5, p=2,\n",
       "          weights='uniform'),\n",
       "       fit_params=None, iid='warn', n_jobs=None,\n",
       "       param_grid={'n_neighbors': [1, 2, 3, 4, 5, 6, 7, 8, 9, 10]},\n",
       "       pre_dispatch='2*n_jobs', refit=True, return_train_score='warn',\n",
       "       scoring=None, verbose=0)"
      ]
     },
     "execution_count": 14,
     "metadata": {},
     "output_type": "execute_result"
    }
   ],
   "source": [
    "# grid search\n",
    "grid.fit(X,y)"
   ]
  },
  {
   "cell_type": "code",
   "execution_count": 15,
   "metadata": {},
   "outputs": [
    {
     "name": "stdout",
     "output_type": "stream",
     "text": [
      "Best parameters: {'n_neighbors': 7}\n"
     ]
    }
   ],
   "source": [
    "# print best parameters\n",
    "print(\"Best parameters: {}\".format(grid.best_params_))"
   ]
  },
  {
   "cell_type": "code",
   "execution_count": 16,
   "metadata": {},
   "outputs": [
    {
     "data": {
      "text/plain": [
       "[<matplotlib.lines.Line2D at 0x1a1dc8fcf8>]"
      ]
     },
     "execution_count": 16,
     "metadata": {},
     "output_type": "execute_result"
    },
    {
     "data": {
      "image/png": "[encoded data removed]",
      "text/plain": [
       "<Figure size 432x288 with 1 Axes>"
      ]
     },
     "metadata": {
      "needs_background": "light"
     },
     "output_type": "display_data"
    }
   ],
   "source": [
    "# plot the best model ontop of the data\n",
    "plt.scatter(df['BPM'],df['Rating'])\n",
    "plt.xlabel('BPM')\n",
    "plt.ylabel('Rating')\n",
    "\n",
    "best_model = grid.best_estimator_\n",
    "x_ticks2 = np.arange(0,200.0,0.1)\n",
    "y_ticks2 = best_model.predict(x_ticks2.reshape(-1, 1))\n",
    "plt.plot(x_ticks2,y_ticks2,\"r-\")"
   ]
  },
  {
   "cell_type": "code",
   "execution_count": 17,
   "metadata": {},
   "outputs": [
    {
     "name": "stdout",
     "output_type": "stream",
     "text": [
      "R^2 score: 0.19 (0.59, 0.84)\n"
     ]
    }
   ],
   "source": [
    "# compute the R^2 score and 95% Confidence Interval of the best model\n",
    "rs2 = best_model.score(df['BPM'].values.reshape(-1,1),df['Rating'])\n",
    "observations2 = df.shape[0]\n",
    "variables2 = 1\n",
    "lb2, ub2 = regression_confint(rs2, observations2, variables2)\n",
    "print(\"R^2 score: {:3.2f} ({:3.2f}, {:3.2f})\".format(rs2,lb,ub))"
   ]
  },
  {
   "cell_type": "markdown",
   "metadata": {},
   "source": [
    "### *Conclusion*\n",
    "\n",
    "After running a regression tree analysis and a best model KNN Regression I received the R^2 Score and confidence interval for both models\n",
    "\n",
    "    R^2 score: 0.71 (0.59, 0.84)\n",
    "    R^2 score: 0.19 (0.00, 0.37)\n",
    "    \n",
    "As we can see the two intervals do not overlap. This tells us that the difference in model performance is significant. We can also see that the R^2 score for the regression tree model is significantly more linearized and accurate than the KNN regression model. \n",
    "\n",
    "Overall, these two models tell us that the relationship between BPM and Rating is not linear. Therefore there is no direct trend that the higher the BPM, the higher the Rating and vice versa. "
   ]
  },
  {
   "cell_type": "markdown",
   "metadata": {},
   "source": [
    "#### Analysis II\n",
    "\n",
    "Another aspect of the data set was the popularity of the song, which leads to my second question of analysis:\n",
    "    \n",
    "    Does BPM effect the popularity of a song?\n",
    "    \n",
    "To conclude if this is true I will start by determining what is considered a high or low popularity score\n",
    "\n"
   ]
  },
  {
   "cell_type": "code",
   "execution_count": 18,
   "metadata": {},
   "outputs": [
    {
     "data": {
      "text/plain": [
       "70"
      ]
     },
     "execution_count": 18,
     "metadata": {},
     "output_type": "execute_result"
    }
   ],
   "source": [
    "df['Popularity'].min()"
   ]
  },
  {
   "cell_type": "code",
   "execution_count": 19,
   "metadata": {},
   "outputs": [
    {
     "data": {
      "text/plain": [
       "95"
      ]
     },
     "execution_count": 19,
     "metadata": {},
     "output_type": "execute_result"
    }
   ],
   "source": [
    "df['Popularity'].max()"
   ]
  },
  {
   "cell_type": "code",
   "execution_count": 20,
   "metadata": {},
   "outputs": [
    {
     "data": {
      "text/plain": [
       "87.5"
      ]
     },
     "execution_count": 20,
     "metadata": {},
     "output_type": "execute_result"
    }
   ],
   "source": [
    "df['Popularity'].mean()"
   ]
  },
  {
   "cell_type": "code",
   "execution_count": 21,
   "metadata": {},
   "outputs": [
    {
     "data": {
      "text/plain": [
       "<matplotlib.axes._subplots.AxesSubplot at 0x1a1dd237f0>"
      ]
     },
     "execution_count": 21,
     "metadata": {},
     "output_type": "execute_result"
    },
    {
     "data": {
      "image/png": "[encoded data removed]",
      "text/plain": [
       "<Figure size 432x288 with 1 Axes>"
      ]
     },
     "metadata": {
      "needs_background": "light"
     },
     "output_type": "display_data"
    }
   ],
   "source": [
    "df['Popularity'].value_counts().plot(kind='hist')"
   ]
  },
  {
   "cell_type": "code",
   "execution_count": 22,
   "metadata": {},
   "outputs": [
    {
     "data": {
      "text/plain": [
       "<matplotlib.axes._subplots.AxesSubplot at 0x1a1dabf5f8>"
      ]
     },
     "execution_count": 22,
     "metadata": {},
     "output_type": "execute_result"
    },
    {
     "data": {
      "image/png": "[encoded data removed]",
      "text/plain": [
       "<Figure size 432x288 with 1 Axes>"
      ]
     },
     "metadata": {
      "needs_background": "light"
     },
     "output_type": "display_data"
    }
   ],
   "source": [
    "df['Popularity'].value_counts().plot(kind='bar')"
   ]
  },
  {
   "cell_type": "markdown",
   "metadata": {},
   "source": [
    "These statistics show that the highest popularity score in the dataset is 95 and the lowest is 70. \n",
    "\n",
    "Looking at the visualizations we can also interpret that a good portion of popularity scores are above the average score of 87. \n",
    "\n",
    "To see if there is a relationship between these high popularity scores and whether or not they are impacted by the BPM of the song. \n",
    "\n",
    "##### *Regression Tree*"
   ]
  },
  {
   "cell_type": "code",
   "execution_count": 23,
   "metadata": {},
   "outputs": [
    {
     "data": {
      "text/plain": [
       "DecisionTreeRegressor(criterion='mse', max_depth=None, max_features=None,\n",
       "           max_leaf_nodes=None, min_impurity_decrease=0.0,\n",
       "           min_impurity_split=None, min_samples_leaf=1,\n",
       "           min_samples_split=2, min_weight_fraction_leaf=0.0,\n",
       "           presort=False, random_state=None, splitter='best')"
      ]
     },
     "execution_count": 23,
     "metadata": {},
     "output_type": "execute_result"
    }
   ],
   "source": [
    "# pick model\n",
    "model3 = DecisionTreeRegressor(max_depth=None)\n",
    "model3.fit(df['BPM'].values.reshape(-1,1),df['Popularity'])"
   ]
  },
  {
   "cell_type": "code",
   "execution_count": 24,
   "metadata": {},
   "outputs": [
    {
     "data": {
      "text/plain": [
       "[<matplotlib.lines.Line2D at 0x1a1ddf1b70>]"
      ]
     },
     "execution_count": 24,
     "metadata": {},
     "output_type": "execute_result"
    },
    {
     "data": {
      "image/png": "[encoded data removed]",
      "text/plain": [
       "<Figure size 432x288 with 1 Axes>"
      ]
     },
     "metadata": {
      "needs_background": "light"
     },
     "output_type": "display_data"
    }
   ],
   "source": [
    "# plot the model ontop of the data\n",
    "plt.scatter(df['BPM'],df['Popularity'])\n",
    "plt.xlabel('BPM')\n",
    "plt.ylabel('Popularity')\n",
    "\n",
    "x_ticks3 = np.arange(0,200.0,0.1)\n",
    "y_ticks3 = model3.predict(x_ticks3.reshape(-1, 1))\n",
    "plt.plot(x_ticks3,y_ticks3,\"r-\")"
   ]
  },
  {
   "cell_type": "code",
   "execution_count": 25,
   "metadata": {},
   "outputs": [
    {
     "name": "stdout",
     "output_type": "stream",
     "text": [
      "R^2 Score: 0.62 (0.46, 0.78)\n"
     ]
    }
   ],
   "source": [
    "# R^2 score\n",
    "rs3 = model3.score(df['BPM'].values.reshape(-1,1),df['Popularity'])\n",
    "observations3 = df.shape[0]\n",
    "variables3 = 1\n",
    "lb3,ub3 = regression_confint(rs3, observations3, variables3)\n",
    "\n",
    "# print out R^2 score with its 95% confidence interval\n",
    "print(\"R^2 Score: {:3.2f} ({:3.2f}, {:3.2f})\".format(rs3,lb3,ub3))"
   ]
  },
  {
   "cell_type": "markdown",
   "metadata": {},
   "source": [
    "##### *KNN Regression*"
   ]
  },
  {
   "cell_type": "code",
   "execution_count": 26,
   "metadata": {},
   "outputs": [],
   "source": [
    "# create dataset vectors\n",
    "X4 = df['BPM'].values.reshape(-1,1)\n",
    "y4 = df['Popularity']"
   ]
  },
  {
   "cell_type": "code",
   "execution_count": 27,
   "metadata": {},
   "outputs": [],
   "source": [
    "# set up the grid\n",
    "model4 = KNeighborsRegressor()\n",
    "param_grid = {'n_neighbors': list(range(1,11))}\n",
    "grid = GridSearchCV(model4, param_grid, cv=5)"
   ]
  },
  {
   "cell_type": "code",
   "execution_count": 28,
   "metadata": {},
   "outputs": [
    {
     "data": {
      "text/plain": [
       "GridSearchCV(cv=5, error_score='raise-deprecating',\n",
       "       estimator=KNeighborsRegressor(algorithm='auto', leaf_size=30, metric='minkowski',\n",
       "          metric_params=None, n_jobs=None, n_neighbors=5, p=2,\n",
       "          weights='uniform'),\n",
       "       fit_params=None, iid='warn', n_jobs=None,\n",
       "       param_grid={'n_neighbors': [1, 2, 3, 4, 5, 6, 7, 8, 9, 10]},\n",
       "       pre_dispatch='2*n_jobs', refit=True, return_train_score='warn',\n",
       "       scoring=None, verbose=0)"
      ]
     },
     "execution_count": 28,
     "metadata": {},
     "output_type": "execute_result"
    }
   ],
   "source": [
    "# grid search \n",
    "grid.fit(X4,y4)"
   ]
  },
  {
   "cell_type": "code",
   "execution_count": 29,
   "metadata": {},
   "outputs": [
    {
     "name": "stdout",
     "output_type": "stream",
     "text": [
      "Best parameters: {'n_neighbors': 10}\n"
     ]
    }
   ],
   "source": [
    "# print best parameters\n",
    "print(\"Best parameters: {}\".format(grid.best_params_))"
   ]
  },
  {
   "cell_type": "code",
   "execution_count": 30,
   "metadata": {},
   "outputs": [
    {
     "data": {
      "text/plain": [
       "[<matplotlib.lines.Line2D at 0x1a1e064e10>]"
      ]
     },
     "execution_count": 30,
     "metadata": {},
     "output_type": "execute_result"
    },
    {
     "data": {
      "image/png": "[encoded data removed]",
      "text/plain": [
       "<Figure size 432x288 with 1 Axes>"
      ]
     },
     "metadata": {
      "needs_background": "light"
     },
     "output_type": "display_data"
    }
   ],
   "source": [
    "# plot the best model ontop of the data\n",
    "plt.scatter(df['BPM'],df['Popularity'])\n",
    "plt.xlabel('BPM')\n",
    "plt.ylabel('Popularity')\n",
    "\n",
    "best_model4 = grid.best_estimator_\n",
    "x_ticks4 = np.arange(0,200.0,0.1)\n",
    "y_ticks4 = best_model4.predict(x_ticks4.reshape(-1, 1))\n",
    "plt.plot(x_ticks4,y_ticks4,\"r-\")"
   ]
  },
  {
   "cell_type": "code",
   "execution_count": 31,
   "metadata": {},
   "outputs": [
    {
     "name": "stdout",
     "output_type": "stream",
     "text": [
      "R^2 score: 0.13 (0.00, 0.30)\n"
     ]
    }
   ],
   "source": [
    "# compute the R^2 score and 95% Confidence Interval of the best model\n",
    "rs4 = best_model4.score(df['BPM'].values.reshape(-1,1),df['Popularity'])\n",
    "observations4 = df.shape[0]\n",
    "variables4 = 1\n",
    "lb4, ub4 = regression_confint(rs4, observations4, variables4)\n",
    "print(\"R^2 score: {:3.2f} ({:3.2f}, {:3.2f})\".format(rs4,lb4,ub4))"
   ]
  },
  {
   "cell_type": "markdown",
   "metadata": {},
   "source": [
    "### Conclusion\n",
    "\n",
    "After running the regresion tree and KNN regression analysis I received the two R^2 scores and confidence intervals for both models\n",
    "\n",
    "    R^2 0.62 (0.46, 0.78)\n",
    "    R^2 0.13 (0.00, 0.30)\n",
    "    \n",
    "the two confidence intervals do not overlap, which tells us that both tests are significant. To determine which test to refer to when trying to make a decision about the relationship between the two variables we look to the R^2 scores which in this case the regression tree model is much more accurate than the KNN model, with an accuracy score of 0.62. \n",
    "\n",
    "Overall, these two models show us that the relationship between the BPM and Popularity is not a linear relationship os we cannot make the assumption that the higher the BPM the more likely the song will have a higher popularity score and vice versa. "
   ]
  },
  {
   "cell_type": "markdown",
   "metadata": {},
   "source": [
    "## Results\n",
    "\n",
    "After processing the results from the different regression models it is clear that you cannot predict the rating or popularity of a song by just looking at one variable of the data set. The results when comparing rating and BPM or rating and popularity are not ideal, as I would prefer better R^2 scores with confidence intervals that were smaller and at a higher range. \n",
    "\n",
    "When comparing the two regression models we see in the first analysis the results\n",
    "\n",
    "    R^2 score: 0.71 (0.59, 0.84)\n",
    "    R^2 score: 0.19 (0.00, 0.37)\n",
    "    \n",
    "and the second analysis \n",
    "\n",
    "    R^2 0.62 (0.46, 0.78)\n",
    "    R^2 0.13 (0.00, 0.30)\n",
    "    \n",
    "    \n",
    "The results received from the analyses run are similar in numbers but both show the need for further analysis and to incorporate more variables to receive higher R^2 scores. \n",
    "    \n",
    "\n",
    "Overall, I discovered that my initial hypothesis was wrong. BPM does not have a direct relationship with Rating or Popularity. To only look at BPM to determine results does not provide the most accurate information compared to evaluating multiple variables along with BPM. "
   ]
  },
  {
   "cell_type": "code",
   "execution_count": null,
   "metadata": {},
   "outputs": [],
   "source": []
  }
 ],
 "metadata": {
  "kernelspec": {
   "display_name": "Python 3",
   "language": "python",
   "name": "python3"
  },
  "language_info": {
   "codemirror_mode": {
    "name": "ipython",
    "version": 3
   },
   "file_extension": ".py",
   "mimetype": "text/x-python",
   "name": "python",
   "nbconvert_exporter": "python",
   "pygments_lexer": "ipython3",
   "version": "3.7.1"
  }
 },
 "nbformat": 4,
 "nbformat_minor": 2
}
