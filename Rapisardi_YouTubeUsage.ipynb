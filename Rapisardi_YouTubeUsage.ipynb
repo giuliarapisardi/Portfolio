{
 "cells": [
  {
   "cell_type": "code",
   "execution_count": null,
   "metadata": {},
   "outputs": [],
   "source": [
    "#  Giulia Rapisardi\n",
    "#  CSC 201 - SPRING 2019\n",
    "#  INTRODUCTION TO PYTHON\n",
    "#  2-15-19\n",
    "   \n",
    "#  PROGRAM TITLE: YouTube Facts and Statistics\n",
    "   \n",
    "#  PROGRAM DESCRIPTION: A Python program that defines and analyzes YouTube statistics and daily \n",
    "# usage statistics. \n",
    "                        \n",
    "#  GENERAL SOLUTION:  \n",
    "#                    Define multiple variables that show YouTube users and how often and how much they are \n",
    "#                    viewing videos on YouTube. These variables will be used to determine the total YouTube\n",
    "#                    usage based off of views from 2018.\n",
    "\n",
    "   \n",
    "\n",
    "#  PSEUDOCODE:\n",
    "   \n",
    "# The first Youtube video was uploaded April 23rd, 2005\n",
    "\n",
    "# Define an integer that represents the total number of YouTube users\n",
    "users = 1300000000\n",
    "\n",
    "# Define an integer that shows the amount of videos (in hours) uploaded each day\n",
    "video_time = 300\n",
    "\n",
    "# Define an integer that  represents the amount of visitors the site gets every day (in millions)\n",
    "visitors = 30\n",
    "\n",
    "# Define an integer that represents the number of hours Youtube videos are watched each month.\n",
    "video_watched = 3250000000\n",
    "\n",
    "#        After defining the variable, calculate how many hours of YouTube videos are watched in a year\n",
    "videos_watched_in_a_year = video_watched * 12\n",
    "print(videos_watched_in_a_year)\n",
    "#        Calculate how many hours of YouTube videos are watched in a day\n",
    "videos_watched_in_a_day = video_watched // 31\n",
    "print(videos_watched_in_a_day)\n",
    "\n",
    "\n",
    "# Define an integer that represents the number of mobile YouTube views per day\n",
    "mobile_views = 1000000000\n",
    "\n",
    "\n",
    "# print the following using the integer variables you defined for the YouTube Usage in 2018\n",
    "# The number of YouTube views in one day is <videos in a day variable> that is <videos in a year variable> per year!\n",
    "print(\"The number of YouTube views in one day is\", str(videos_watched_in_a_day), \"that is\", str(videos_watched_in_a_year), \"per year!\")"
   ]
  },
  {
   "cell_type": "code",
   "execution_count": null,
   "metadata": {},
   "outputs": [],
   "source": []
  }
 ],
 "metadata": {
  "kernelspec": {
   "display_name": "Python 3",
   "language": "python",
   "name": "python3"
  },
  "language_info": {
   "codemirror_mode": {
    "name": "ipython",
    "version": 3
   },
   "file_extension": ".py",
   "mimetype": "text/x-python",
   "name": "python",
   "nbconvert_exporter": "python",
   "pygments_lexer": "ipython3",
   "version": "3.7.1"
  }
 },
 "nbformat": 4,
 "nbformat_minor": 2
}
